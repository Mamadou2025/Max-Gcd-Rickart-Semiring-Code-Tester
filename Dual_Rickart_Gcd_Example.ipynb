{
  "nbformat": 4,
  "nbformat_minor": 0,
  "metadata": {
    "colab": {
      "provenance": [],
      "authorship_tag": "ABX9TyMmyYSAoY6lnooE0fpxh3pU",
      "include_colab_link": true
    },
    "kernelspec": {
      "name": "python3",
      "display_name": "Python 3"
    },
    "language_info": {
      "name": "python"
    }
  },
  "cells": [
    {
      "cell_type": "markdown",
      "metadata": {
        "id": "view-in-github",
        "colab_type": "text"
      },
      "source": [
        "<a href=\"https://colab.research.google.com/github/Mamadou2025/Max-Gcd-Rickart-Semiring-Code-Tester/blob/main/Dual_Rickart_Gcd_Example.ipynb\" target=\"_parent\"><img src=\"https://colab.research.google.com/assets/colab-badge.svg\" alt=\"Open In Colab\"/></a>"
      ]
    },
    {
      "cell_type": "code",
      "execution_count": null,
      "metadata": {
        "id": "0BrOM_6lnS0t"
      },
      "outputs": [],
      "source": [
        "\n",
        "from itertools import product\n",
        "\n",
        "def gcd(x, y):\n",
        "    \"\"\"Computes the GCD of x and y with gcd(0,0) = 0\"\"\"\n",
        "    while y != 0:\n",
        "        x, y = y, x % y\n",
        "    return abs(x) if x != 0 else 0\n",
        "\n",
        "def is_endomorphism(f, M):\n",
        "    \"\"\"Checks if f preserves the GCD operation\"\"\"\n",
        "    return all(f[gcd(x, y)] == gcd(f[x], f[y]) for x, y in product(M, repeat=2))\n",
        "\n",
        "def is_idempotent(f, M):\n",
        "    \"\"\"Checks if f ∘ f = f\"\"\"\n",
        "    return all(f[f[x]] == f[x] for x in M)\n",
        "\n",
        "def direct_image(f, M):\n",
        "    \"\"\"Computes the direct image of f\"\"\"\n",
        "    return {f[x] for x in M}\n",
        "\n",
        "def extended_image(f, M):\n",
        "    \"\"\"Computes the closure of the image under GCD\"\"\"\n",
        "    im_f = direct_image(f, M)\n",
        "    return {y for y in M if any(gcd(y, f[x]) in im_f for x in M)}\n",
        "\n",
        "def kernel(f, M):\n",
        "    \"\"\"Computes the kernel of f (values x where f(x) = 0)\"\"\"\n",
        "    return {x for x in M if f[x] == 0}\n",
        "\n",
        "def generate_valid_functions(M):\n",
        "    \"\"\"Generates all valid endomorphism functions\"\"\"\n",
        "    functions = []\n",
        "    for f_vals in product(M, repeat=len(M)):\n",
        "        f = dict(enumerate(f_vals))\n",
        "        if f[0] == 0 and is_endomorphism(f, M):\n",
        "            functions.append(f)\n",
        "    return functions\n",
        "\n",
        "def analyze_functions(M):\n",
        "    \"\"\"Displays analysis and checks the Dual weak Rickart property\"\"\"\n",
        "    valid_functions = generate_valid_functions(M)\n",
        "    idempotents = [g for g in valid_functions if is_idempotent(g, M)]\n",
        "\n",
        "    # Display table\n",
        "    print(\"\\nFunction\".ljust(15), \"Idempotent\".ljust(12), \"Image\".ljust(15),\n",
        "          \"Extended Image\".ljust(18), \"Kernel\".ljust(15), \"i-regular\")\n",
        "    print(\"-\" * 85)\n",
        "\n",
        "    for f in valid_functions:\n",
        "        f_tuple = tuple(f[i] for i in sorted(M))\n",
        "        im = direct_image(f, M)\n",
        "        im_et = extended_image(f, M)\n",
        "        ker = kernel(f, M)\n",
        "\n",
        "        line = f\"{str(f_tuple).ljust(15)} | \"\n",
        "        line += f\"{'Yes'.ljust(10) if is_idempotent(f, M) else 'No'.ljust(10)} | \"\n",
        "        line += f\"{str(im).ljust(13)} | \"\n",
        "        line += f\"{str(im_et).ljust(16)} | \"\n",
        "        line += f\"{str(ker).ljust(13)} | \"\n",
        "        line += \"Yes\" if im == im_et else \"No\"  # ✅ Corrected i-regular logic\n",
        "        print(line)\n",
        "\n",
        "    # Check Dual weak Rickart property\n",
        "    is_dual_weak_rickart = True\n",
        "    for f in valid_functions:\n",
        "        im_et_f = extended_image(f, M)\n",
        "        # Check if there exists an idempotent g such that im_et_f == kernel(g)\n",
        "        if not any(im_et_f == kernel(g, M) for g in idempotents):\n",
        "            is_dual_weak_rickart = False\n",
        "            break\n",
        "\n",
        "    print(\"\\nFinal Result:\")\n",
        "    print(\"M is Dual weak Rickart :\", \"Yes\" if is_dual_weak_rickart else \"No\")\n",
        "\n",
        "# Example usage\n",
        "n = 2  # You can modify n\n",
        "M = list(range(n + 1))\n",
        "analyze_functions(M)"
      ]
    },
    {
      "cell_type": "markdown",
      "source": [
        "Rickart Property Algorithm: A Simple Overview\n",
        "\n",
        "This code tests certain algebraic properties (i-Rickart and w-Rickart) of semimodules over natural numbers using the GCD operation. It analyzes all possible functions (endomorphisms) on a set M = {0, 1, ..., n}, where n is provided by the user.\n",
        "\n",
        "Steps Involved:\n",
        "\n",
        "Define the Set: Generate the set M = {0, 1, ..., n}, where n is a user-defined integer.\n",
        "\n",
        "Generate Functions: Identify all possible endomorphisms f of M. These are functions that:\n",
        "\n",
        "Map 0 to 0.\n",
        "Preserve the GCD operation: f(gcd(x, y)) = gcd(f(x), f(y)), for all x, y in M.\n",
        "Check Idempotency: For each function f, determine if it is idempotent, meaning f(f(x)) = f(x).\n",
        "\n",
        "Compute Subtractive Closure: Combine certain valid functions in S to check if their results align with predefined algebraic closure rules.\n",
        "\n",
        "Test i-Rickart Property: Verify if every idempotent function f composes correctly with other functions.\n",
        "\n",
        "Test w-Rickart Property: Check if subtractive closure matches the set of endomorphisms S.\n",
        "\n",
        "Output Results: Report whether the structure satisfies the i-Rickart and/or w-Rickart properties.\n",
        "\n",
        "How to Use:\n",
        "\n",
        "Run the program with different values of n to analyze varying semimodule structures.\n",
        "Outputs will indicate whether S, the set of valid endomorphisms, satisfies the required Rickart properties."
      ],
      "metadata": {
        "id": "KDgUw-xQDdLm"
      }
    }
  ]
}