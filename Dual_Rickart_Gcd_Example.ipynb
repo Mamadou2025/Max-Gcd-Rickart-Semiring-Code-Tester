{
  "nbformat": 4,
  "nbformat_minor": 0,
  "metadata": {
    "colab": {
      "provenance": [],
      "authorship_tag": "ABX9TyMhTecy3AXP2GzN8Lye56sr",
      "include_colab_link": true
    },
    "kernelspec": {
      "name": "python3",
      "display_name": "Python 3"
    },
    "language_info": {
      "name": "python"
    }
  },
  "cells": [
    {
      "cell_type": "markdown",
      "metadata": {
        "id": "view-in-github",
        "colab_type": "text"
      },
      "source": [
        "<a href=\"https://colab.research.google.com/github/Mamadou2025/Max-Gcd-Rickart-Semiring-Code-Tester/blob/main/Dual_Rickart_Gcd_Example.ipynb\" target=\"_parent\"><img src=\"https://colab.research.google.com/assets/colab-badge.svg\" alt=\"Open In Colab\"/></a>"
      ]
    },
    {
      "cell_type": "code",
      "execution_count": 1,
      "metadata": {
        "id": "0BrOM_6lnS0t",
        "outputId": "9b765228-efd3-4665-a035-91d737065a57",
        "colab": {
          "base_uri": "https://localhost:8080/"
        }
      },
      "outputs": [
        {
          "output_type": "stream",
          "name": "stdout",
          "text": [
            "\n",
            "Function       Idempotent   Image           Extended Image     Kernel          i-regular\n",
            "-------------------------------------------------------------------------------------\n",
            "(0, 0, 0)       | Yes        | {0}           | {0}              | {0, 1, 2}     | Yes\n",
            "(0, 1, 0)       | Yes        | {0, 1}        | {0, 1, 2}        | {0, 2}        | No\n",
            "(0, 1, 1)       | Yes        | {0, 1}        | {0, 1, 2}        | {0}           | No\n",
            "(0, 1, 2)       | Yes        | {0, 1, 2}     | {0, 1, 2}        | {0}           | Yes\n",
            "(0, 2, 0)       | No         | {0, 2}        | {0, 2}           | {0, 2}        | Yes\n",
            "(0, 2, 2)       | Yes        | {0, 2}        | {0, 2}           | {0}           | Yes\n",
            "\n",
            "Final Result:\n",
            "M is Dual weak Rickart : Yes\n"
          ]
        }
      ],
      "source": [
        "\n",
        "from itertools import product\n",
        "\n",
        "def gcd(x, y):\n",
        "    \"\"\"Computes the GCD of x and y with gcd(0,0) = 0\"\"\"\n",
        "    while y != 0:\n",
        "        x, y = y, x % y\n",
        "    return abs(x) if x != 0 else 0\n",
        "\n",
        "def is_endomorphism(f, M):\n",
        "    \"\"\"Checks if f preserves the GCD operation\"\"\"\n",
        "    return all(f[gcd(x, y)] == gcd(f[x], f[y]) for x, y in product(M, repeat=2))\n",
        "\n",
        "def is_idempotent(f, M):\n",
        "    \"\"\"Checks if f ∘ f = f\"\"\"\n",
        "    return all(f[f[x]] == f[x] for x in M)\n",
        "\n",
        "def direct_image(f, M):\n",
        "    \"\"\"Computes the direct image of f\"\"\"\n",
        "    return {f[x] for x in M}\n",
        "\n",
        "def extended_image(f, M):\n",
        "    \"\"\"Computes the closure of the image under GCD\"\"\"\n",
        "    im_f = direct_image(f, M)\n",
        "    return {y for y in M if any(gcd(y, f[x]) in im_f for x in M)}\n",
        "\n",
        "def kernel(f, M):\n",
        "    \"\"\"Computes the kernel of f (values x where f(x) = 0)\"\"\"\n",
        "    return {x for x in M if f[x] == 0}\n",
        "\n",
        "def generate_valid_functions(M):\n",
        "    \"\"\"Generates all valid endomorphism functions\"\"\"\n",
        "    functions = []\n",
        "    for f_vals in product(M, repeat=len(M)):\n",
        "        f = dict(enumerate(f_vals))\n",
        "        if f[0] == 0 and is_endomorphism(f, M):\n",
        "            functions.append(f)\n",
        "    return functions\n",
        "\n",
        "def analyze_functions(M):\n",
        "    \"\"\"Displays analysis and checks the Dual weak Rickart property\"\"\"\n",
        "    valid_functions = generate_valid_functions(M)\n",
        "    idempotents = [g for g in valid_functions if is_idempotent(g, M)]\n",
        "\n",
        "    # Display table\n",
        "    print(\"\\nFunction\".ljust(15), \"Idempotent\".ljust(12), \"Image\".ljust(15),\n",
        "          \"Extended Image\".ljust(18), \"Kernel\".ljust(15), \"i-regular\")\n",
        "    print(\"-\" * 85)\n",
        "\n",
        "    for f in valid_functions:\n",
        "        f_tuple = tuple(f[i] for i in sorted(M))\n",
        "        im = direct_image(f, M)\n",
        "        im_et = extended_image(f, M)\n",
        "        ker = kernel(f, M)\n",
        "\n",
        "        line = f\"{str(f_tuple).ljust(15)} | \"\n",
        "        line += f\"{'Yes'.ljust(10) if is_idempotent(f, M) else 'No'.ljust(10)} | \"\n",
        "        line += f\"{str(im).ljust(13)} | \"\n",
        "        line += f\"{str(im_et).ljust(16)} | \"\n",
        "        line += f\"{str(ker).ljust(13)} | \"\n",
        "        line += \"Yes\" if im == im_et else \"No\"  # ✅ Corrected i-regular logic\n",
        "        print(line)\n",
        "\n",
        "    # Check Dual weak Rickart property\n",
        "    is_dual_weak_rickart = True\n",
        "    for f in valid_functions:\n",
        "        im_et_f = extended_image(f, M)\n",
        "        # Check if there exists an idempotent g such that im_et_f == kernel(g)\n",
        "        if not any(im_et_f == kernel(g, M) for g in idempotents):\n",
        "            is_dual_weak_rickart = False\n",
        "            break\n",
        "\n",
        "    print(\"\\nFinal Result:\")\n",
        "    print(\"M is Dual weak Rickart :\", \"Yes\" if is_dual_weak_rickart else \"No\")\n",
        "\n",
        "# Example usage\n",
        "n = 2  # You can modify n\n",
        "M = list(range(n + 1))\n",
        "analyze_functions(M)"
      ]
    },
    {
      "cell_type": "markdown",
      "source": [
        "HOW TO USE THIS CODE Choose your n and execute. Result four n=2\n",
        "\n",
        "![ddd.PNG](data:image/png;base64,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)"
      ],
      "metadata": {
        "id": "smWhH2oEu2M4"
      }
    },
    {
      "cell_type": "markdown",
      "source": [
        "Rickart Property Algorithm: A Simple Overview\n",
        "\n",
        "This code tests certain algebraic properties (i-Rickart and w-Rickart) of semimodules over natural numbers using the GCD operation. It analyzes all possible functions (endomorphisms) on a set M = {0, 1, ..., n}, where n is provided by the user.\n",
        "\n",
        "Steps Involved:\n",
        "\n",
        "Define the Set: Generate the set M = {0, 1, ..., n}, where n is a user-defined integer.\n",
        "\n",
        "Generate Functions: Identify all possible endomorphisms f of M. These are functions that:\n",
        "\n",
        "Map 0 to 0.\n",
        "Preserve the GCD operation: f(gcd(x, y)) = gcd(f(x), f(y)), for all x, y in M.\n",
        "Check Idempotency: For each function f, determine if it is idempotent, meaning f(f(x)) = f(x).\n",
        "\n",
        "Compute Subtractive Closure: Combine certain valid functions in S to check if their results align with predefined algebraic closure rules.\n",
        "\n",
        "Test i-Rickart Property: Verify if every idempotent function f composes correctly with other functions.\n",
        "\n",
        "Test w-Rickart Property: Check if subtractive closure matches the set of endomorphisms S.\n",
        "\n",
        "Output Results: Report whether the structure satisfies the i-Rickart and/or w-Rickart properties.\n",
        "\n",
        "How to Use:\n",
        "\n",
        "Run the program with different values of n to analyze varying semimodule structures.\n",
        "Outputs will indicate whether S, the set of valid endomorphisms, satisfies the required Rickart properties."
      ],
      "metadata": {
        "id": "KDgUw-xQDdLm"
      }
    }
  ]
}