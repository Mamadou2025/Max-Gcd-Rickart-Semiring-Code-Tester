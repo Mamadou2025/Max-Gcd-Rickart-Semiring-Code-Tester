{
  "nbformat": 4,
  "nbformat_minor": 0,
  "metadata": {
    "colab": {
      "provenance": [],
      "authorship_tag": "ABX9TyPtPduxSw4qTulF+2SQvmBd",
      "include_colab_link": true
    },
    "kernelspec": {
      "name": "python3",
      "display_name": "Python 3"
    },
    "language_info": {
      "name": "python"
    }
  },
  "cells": [
    {
      "cell_type": "markdown",
      "metadata": {
        "id": "view-in-github",
        "colab_type": "text"
      },
      "source": [
        "<a href=\"https://colab.research.google.com/github/Mamadou2025/Max-Gcd-Rickart-Semiring-Code-Tester/blob/main/Dual_Rickart_Max_Example.ipynb\" target=\"_parent\"><img src=\"https://colab.research.google.com/assets/colab-badge.svg\" alt=\"Open In Colab\"/></a>"
      ]
    },
    {
      "cell_type": "code",
      "execution_count": null,
      "metadata": {
        "id": "FuUu_7Yln9bT"
      },
      "outputs": [],
      "source": [
        "from itertools import product\n",
        "\n",
        "def is_endomorphism(f, M):\n",
        "    \"\"\"Checks if f preserves the max operation.\"\"\"\n",
        "    return all(f[max(x, y)] == max(f[x], f[y]) for x, y in product(M, repeat=2))\n",
        "\n",
        "def is_idempotent(f, M):\n",
        "    \"\"\"Checks if f ∘ f = f.\"\"\"\n",
        "    return all(f[f[x]] == f[x] for x in M)\n",
        "\n",
        "def direct_image(f, M):\n",
        "    \"\"\"Computes the direct image of f.\"\"\"\n",
        "    return {f[x] for x in M}\n",
        "\n",
        "def extended_image(f, M):\n",
        "    \"\"\"Computes the closure of the image under max.\"\"\"\n",
        "    im_f = direct_image(f, M)\n",
        "    return {y for y in M if any(max(y, f[x]) in im_f for x in M)}\n",
        "\n",
        "def kernel(f, M):\n",
        "    \"\"\"Computes the kernel of f (values x where f(x) = 0).\"\"\"\n",
        "    return {x for x in M if f[x] == 0}\n",
        "\n",
        "def generate_valid_functions(M):\n",
        "    \"\"\"Generates all valid endomorphism functions.\"\"\"\n",
        "    functions = []\n",
        "    for f_vals in product(M, repeat=len(M)):\n",
        "        f = dict(enumerate(f_vals))\n",
        "        if f[0] == 0 and is_endomorphism(f, M):\n",
        "            functions.append(f)\n",
        "    return functions\n",
        "\n",
        "def analyze_functions(M):\n",
        "    \"\"\"Displays analysis and checks the Dual weak Rickart property.\"\"\"\n",
        "    valid_functions = generate_valid_functions(M)\n",
        "    idempotents = [g for g in valid_functions if is_idempotent(g, M)]\n",
        "\n",
        "    # Display table\n",
        "    print(\"\\nFunction\".ljust(15), \"Idempotent\".ljust(12), \"Image\".ljust(15),\n",
        "          \"Extended Image\".ljust(18), \"Kernel\".ljust(15), \"i-regular\")\n",
        "    print(\"-\" * 85)\n",
        "\n",
        "    for f in valid_functions:\n",
        "        f_tuple = tuple(f[i] for i in sorted(M))\n",
        "        im = direct_image(f, M)\n",
        "        im_et = extended_image(f, M)\n",
        "        ker = kernel(f, M)\n",
        "\n",
        "        line = f\"{str(f_tuple).ljust(15)} | \"\n",
        "        line += f\"{'Yes'.ljust(10) if is_idempotent(f, M) else 'No'.ljust(10)} | \"\n",
        "        line += f\"{str(im).ljust(13)} | \"\n",
        "        line += f\"{str(im_et).ljust(16)} | \"\n",
        "        line += f\"{str(ker).ljust(13)} | \"\n",
        "        line += \"Yes\" if im == im_et else \"No\"  # i-regular logic\n",
        "        print(line)\n",
        "\n",
        "    # Check Dual weak Rickart property\n",
        "    is_dual_weak_rickart = True\n",
        "    for f in valid_functions:\n",
        "        im_et_f = extended_image(f, M)\n",
        "        # Check if there exists an idempotent g such that im_et_f == kernel(g)\n",
        "        if not any(im_et_f == kernel(g, M) for g in idempotents):\n",
        "            is_dual_weak_rickart = False\n",
        "            break\n",
        "\n",
        "    print(\"\\nFinal Result:\")\n",
        "    print(\"M is Dual weak Rickart:\", \"Yes\" if is_dual_weak_rickart else \"No\")\n",
        "\n",
        "# Example usage\n",
        "n = 2  # You can modify n\n",
        "M = list(range(n + 1))\n",
        "analyze_functions(M)"
      ]
    }
  ]
}